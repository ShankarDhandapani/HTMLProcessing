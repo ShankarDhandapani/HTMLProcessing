{
 "cells": [
  {
   "cell_type": "code",
   "execution_count": 1,
   "metadata": {},
   "outputs": [],
   "source": [
    "import csv"
   ]
  },
  {
   "cell_type": "code",
   "execution_count": 2,
   "metadata": {},
   "outputs": [],
   "source": [
    "data = []\n",
    "with open('data.txt','r') as f:\n",
    "    for line in f:\n",
    "        for word in line.split('$$'):\n",
    "            word = word.strip()\n",
    "            if(word != ''):\n",
    "                data.append(word)\n",
    "\n",
    "whole_data = []\n",
    "for i in range(len(data)):\n",
    "    each_row = []\n",
    "    for row in data[i].split('$'):\n",
    "        each_row.append(row.strip())\n",
    "    whole_data.append(each_row)\n",
    "\n",
    "for i in range(len(whole_data)):\n",
    "    with open('output.csv','a') as csvFile:\n",
    "        writer = csv.writer(csvFile)\n",
    "        writer.writerow(whole_data[i])\n",
    "    csvFile.close()\n",
    "\n"
   ]
  }
 ],
 "metadata": {
  "kernelspec": {
   "display_name": "Python 2",
   "language": "python",
   "name": "python2"
  },
  "language_info": {
   "codemirror_mode": {
    "name": "ipython",
    "version": 2
   },
   "file_extension": ".py",
   "mimetype": "text/x-python",
   "name": "python",
   "nbconvert_exporter": "python",
   "pygments_lexer": "ipython2",
   "version": "2.7.15rc1"
  }
 },
 "nbformat": 4,
 "nbformat_minor": 2
}
